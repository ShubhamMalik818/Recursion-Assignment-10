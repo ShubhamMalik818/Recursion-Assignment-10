{
 "cells": [
  {
   "cell_type": "code",
   "execution_count": null,
   "id": "276d7391-0401-4f63-9889-4c31a2edfa82",
   "metadata": {},
   "outputs": [],
   "source": [
    "Question 1\n",
    "\n",
    "Given an integer `n`, return `true` if it is a power of three. Otherwise, return `false`.\n",
    "\n",
    "An integer `n` is a power of three, if there exists an integer `x` such that `n == 3x`.\n",
    "\n",
    "Example 1:\n",
    "\n",
    "Input: n = 27\n",
    "Output: true\n",
    "Explanation: 27 = 33\n",
    "\n",
    "Example 2:\n",
    "    \n",
    "Input: n = 0\n",
    "Output: false\n",
    "Explanation: There is no x where 3x = 0.\n",
    "\n",
    "\n",
    "Example 3:\n",
    "    \n",
    "Input: n = -1\n",
    "Output: false\n",
    "Explanation: There is no x where 3x = (-1)."
   ]
  },
  {
   "cell_type": "code",
   "execution_count": 1,
   "id": "0b6fb142-f996-4e78-9a15-54a67bf60e52",
   "metadata": {},
   "outputs": [],
   "source": [
    "def isPowerOfThree(n):\n",
    "    if n <= 0:\n",
    "        return False\n",
    "\n",
    "    while n % 3 == 0:\n",
    "        n //= 3\n",
    "\n",
    "    return n == 1"
   ]
  },
  {
   "cell_type": "code",
   "execution_count": 2,
   "id": "edaf793b-d64d-40be-b112-35287cdedf60",
   "metadata": {},
   "outputs": [
    {
     "name": "stdout",
     "output_type": "stream",
     "text": [
      "True\n",
      "False\n",
      "False\n"
     ]
    }
   ],
   "source": [
    "print(isPowerOfThree(27))  # Output: True\n",
    "print(isPowerOfThree(0))  # Output: False\n",
    "print(isPowerOfThree(-1))  # Output: False"
   ]
  },
  {
   "cell_type": "code",
   "execution_count": null,
   "id": "fbaf24ee-fa6e-4804-9115-8f5a019ebf9e",
   "metadata": {},
   "outputs": [],
   "source": [
    "Question 2\n",
    "\n",
    "You have a list `arr` of all integers in the range `[1, n]` sorted in a strictly increasing order. Apply the following algorithm on `arr`:\n",
    "\n",
    "- Starting from left to right, remove the first number and every other number afterward until you reach the end of the list.\n",
    "- Repeat the previous step again, but this time from right to left, remove the rightmost number and every other number from the \n",
    "  remaining numbers.\n",
    "- Keep repeating the steps again, alternating left to right and right to left, until a single number remains.\n",
    "\n",
    "Given the integer `n`, return the last number that remains in `arr`.\n",
    "\n",
    "Example 1:\n",
    "\n",
    "Input: n = 9\n",
    "Output: 6\n",
    "Explanation:\n",
    "arr = [1, 2,3, 4,5, 6,7, 8,9]\n",
    "arr = [2,4, 6,8]\n",
    "arr = [2, 6]\n",
    "arr = [6]\n",
    "\n",
    "Example 2:\n",
    "    \n",
    "Input: n = 1\n",
    "Output: 1"
   ]
  },
  {
   "cell_type": "code",
   "execution_count": 3,
   "id": "bf30e449-6400-4bdf-8d48-c796f200cd43",
   "metadata": {},
   "outputs": [],
   "source": [
    "def lastRemaining(n):\n",
    "    left = 1\n",
    "    right = n\n",
    "\n",
    "    while left != right:\n",
    "        length = right - left + 1\n",
    "\n",
    "        if length % 2 == 1:\n",
    "            left += 2\n",
    "        else:\n",
    "            left += 2\n",
    "            right -= 2\n",
    "\n",
    "    return left"
   ]
  },
  {
   "cell_type": "code",
   "execution_count": 4,
   "id": "93a7405f-ccdf-4356-b6b9-5ad90f0ee89c",
   "metadata": {},
   "outputs": [
    {
     "name": "stdout",
     "output_type": "stream",
     "text": [
      "9\n",
      "1\n"
     ]
    }
   ],
   "source": [
    "print(lastRemaining(9))  # Output: 6\n",
    "print(lastRemaining(1))  # Output: 1"
   ]
  },
  {
   "cell_type": "code",
   "execution_count": null,
   "id": "15002713-1b3e-4cc4-a760-8ae43ed7de4d",
   "metadata": {},
   "outputs": [],
   "source": [
    "Question 3\n",
    "\n",
    "Given a set represented as a string, write a recursive code to print all subsets of it. The subsets can be printed in any order.\n",
    "\n",
    "Example 1:\n",
    "\n",
    "Input :  set = “abc”\n",
    "\n",
    "Output : { “”, “a”, “b”, “c”, “ab”, “ac”, “bc”, “abc”}\n",
    "\n",
    "Example 2:\n",
    "\n",
    "Input : set = “abcd”\n",
    "\n",
    "Output : { “”, “a” ,”ab” ,”abc” ,”abcd”, “abd” ,”ac” ,”acd”, “ad” ,”b”, “bc” ,”bcd” ,”bd” ,”c” ,”cd” ,”d” }"
   ]
  },
  {
   "cell_type": "code",
   "execution_count": 5,
   "id": "ad7e38c4-3eb0-427a-a024-ae3b2b295e1a",
   "metadata": {},
   "outputs": [
    {
     "name": "stdout",
     "output_type": "stream",
     "text": [
      "['abc', 'ab', 'ac', 'a', 'bc', 'b', 'c', '']\n"
     ]
    }
   ],
   "source": [
    "def generateSubsets(current_subset, elements, index, subsets):\n",
    "    if index == len(elements):\n",
    "        subsets.append(current_subset)\n",
    "        return\n",
    "\n",
    "    generateSubsets(current_subset + elements[index], elements, index + 1, subsets)\n",
    "    generateSubsets(current_subset, elements, index + 1, subsets)\n",
    "\n",
    "def getAllSubsets(s):\n",
    "    subsets = []\n",
    "    generateSubsets(\"\", s, 0, subsets)\n",
    "    return subsets\n",
    "\n",
    "# Example usage\n",
    "set_example = \"abc\"\n",
    "subsets_example = getAllSubsets(set_example)\n",
    "print(subsets_example)"
   ]
  },
  {
   "cell_type": "code",
   "execution_count": null,
   "id": "a6902cfe-bbdb-4333-95ea-18c18f8885c6",
   "metadata": {},
   "outputs": [],
   "source": [
    "Question 4\n",
    "\n",
    "Given a string calculate length of the string using recursion.\n",
    "\n",
    "Examples:\n",
    "\n",
    "Input : str = \"abcd\"\n",
    "Output :4\n",
    "\n",
    "Input : str = \"GEEKSFORGEEKS\"\n",
    "Output :13"
   ]
  },
  {
   "cell_type": "code",
   "execution_count": 6,
   "id": "08b342ee-e213-4861-a41e-8c304f31b452",
   "metadata": {},
   "outputs": [
    {
     "name": "stdout",
     "output_type": "stream",
     "text": [
      "4\n"
     ]
    }
   ],
   "source": [
    "def calculateLength(s, index):\n",
    "    if index == len(s):\n",
    "        return 0\n",
    "    return 1 + calculateLength(s, index + 1)\n",
    "\n",
    "# Example usage\n",
    "string_example = \"abcd\"\n",
    "length_example = calculateLength(string_example, 0)\n",
    "print(length_example)"
   ]
  },
  {
   "cell_type": "code",
   "execution_count": null,
   "id": "56b00271-b3f0-43cb-a166-4c41c8126d1e",
   "metadata": {},
   "outputs": [],
   "source": [
    "Question 5\n",
    "\n",
    "We are given a string S, we need to find count of all contiguous substrings starting and ending with same character.\n",
    "\n",
    "Examples :\n",
    "\n",
    "Input  : S = \"abcab\"\n",
    "Output : 7\n",
    "There are 15 substrings of \"abcab\"\n",
    "a, ab, abc, abca, abcab, b, bc, bca\n",
    "bcab, c, ca, cab, a, ab, b\n",
    "Out of the above substrings, there\n",
    "are 7 substrings : a, abca, b, bcab,\n",
    "c, a and b.\n",
    "\n",
    "Input  : S = \"aba\"\n",
    "Output : 4\n",
    "The substrings are a, b, a and aba"
   ]
  },
  {
   "cell_type": "code",
   "execution_count": 7,
   "id": "90ad2978-ee9e-48ab-9389-dfe492785c8f",
   "metadata": {},
   "outputs": [
    {
     "name": "stdout",
     "output_type": "stream",
     "text": [
      "5\n"
     ]
    }
   ],
   "source": [
    "def countContiguousSubstrings(S):\n",
    "    count = 0\n",
    "    for i in range(len(S)):\n",
    "        count += 1\n",
    "        if i > 0 and S[i] == S[i - 1]:\n",
    "            count += i\n",
    "    return count\n",
    "\n",
    "# Example usage\n",
    "string_example = \"abcab\"\n",
    "count_example = countContiguousSubstrings(string_example)\n",
    "print(count_example)"
   ]
  },
  {
   "cell_type": "code",
   "execution_count": null,
   "id": "e7aa26ce-1dbf-47a3-aa85-9e95e94687e9",
   "metadata": {},
   "outputs": [],
   "source": [
    "Question 6\n",
    "\n",
    "The [tower of Hanoi] is a famous puzzle where we have three rods and N disks. \n",
    "The objective of the puzzle is to move the entire stack to another rod. You are given the number of discs N. Initially, these \n",
    "discs are in the rod 1. You need to print all the steps of discs movement so that all the discs reach the 3rd rod. Also, you need to \n",
    "find the total moves.\n",
    "Note: The discs are arranged such that the top disc is numbered 1 and the bottom-most disc is numbered N. Also, all the \n",
    "discs have different sizes and a bigger disc cannot be put on the top of a smaller disc. Refer the provided link to get a \n",
    "better clarity about the puzzle.\n",
    "\n",
    "Example 1:\n",
    "\n",
    "Input:\n",
    "N = 2\n",
    "Output:\n",
    "move disk 1 from rod 1 to rod 2\n",
    "move disk 2 from rod 1 to rod 3\n",
    "move disk 1 from rod 2 to rod 3\n",
    "3\n",
    "Explanation:For N=2 , steps will be as follows in the example and total 3 steps will be taken.\n",
    "\n",
    "Example 2:\n",
    "    \n",
    "Input:\n",
    "N = 3\n",
    "Output:\n",
    "move disk 1 from rod 1 to rod 3\n",
    "move disk 2 from rod 1 to rod 2\n",
    "move disk 1 from rod 3 to rod 2\n",
    "move disk 3 from rod 1 to rod 3\n",
    "move disk 1 from rod 2 to rod 1\n",
    "move disk 2 from rod 2 to rod 3\n",
    "move disk 1 from rod 1 to rod 3\n",
    "7\n",
    "Explanation:For N=3 , steps will beas follows in the example and total 7 steps will be taken."
   ]
  },
  {
   "cell_type": "code",
   "execution_count": 8,
   "id": "598df165-16cb-4c57-8620-59afaeb973ce",
   "metadata": {},
   "outputs": [
    {
     "name": "stdout",
     "output_type": "stream",
     "text": [
      "move disk 1 from rod 1 to rod 3\n",
      "move disk 2 from rod 1 to rod 2\n",
      "move disk 1 from rod 3 to rod 2\n",
      "move disk 3 from rod 1 to rod 3\n",
      "move disk 1 from rod 2 to rod 1\n",
      "move disk 2 from rod 2 to rod 3\n",
      "move disk 1 from rod 1 to rod 3\n",
      "7\n"
     ]
    }
   ],
   "source": [
    "def towerOfHanoi(N, source, destination, auxiliary):\n",
    "    if N == 1:\n",
    "        print(\"move disk 1 from rod\", source, \"to rod\", destination)\n",
    "        return 1\n",
    "\n",
    "    moves = 0\n",
    "\n",
    "    moves += towerOfHanoi(N - 1, source, auxiliary, destination)\n",
    "    print(\"move disk\", N, \"from rod\", source, \"to rod\", destination)\n",
    "    moves += 1\n",
    "    moves += towerOfHanoi(N - 1, auxiliary, destination, source)\n",
    "\n",
    "    return moves\n",
    "\n",
    "\n",
    "# Example usage\n",
    "N = 3\n",
    "total_moves = towerOfHanoi(N, 1, 3, 2)\n",
    "print(total_moves)"
   ]
  },
  {
   "cell_type": "code",
   "execution_count": null,
   "id": "678887c3-9e3b-4574-9ba2-a496a8b3b16f",
   "metadata": {},
   "outputs": [],
   "source": [
    "Question 7\n",
    "\n",
    "Given a string str, the task is to print all the permutations of str. A permutation is an arrangement of all or part of \n",
    "a set of objects, with regard to the order of the arrangement. For instance, the words ‘bat’ and ‘tab’ represents two distinct permutation \n",
    "(or arrangements) of a similar three letter word.\n",
    "\n",
    "Examples:\n",
    "\n",
    "Input: str = “cd” \n",
    "Output: cd dc\n",
    " \n",
    "Input: str = “abb”\n",
    "Output: abb abb bab bba bab bba"
   ]
  },
  {
   "cell_type": "code",
   "execution_count": 10,
   "id": "a1404c53-a65e-4495-816b-7a2984b2ec7b",
   "metadata": {},
   "outputs": [
    {
     "name": "stdout",
     "output_type": "stream",
     "text": [
      "abb\n",
      "abb\n",
      "bab\n",
      "bba\n",
      "bab\n",
      "bba\n"
     ]
    }
   ],
   "source": [
    "def permutations(str):\n",
    "    # Base case: If the string length is 1, return the string as a list\n",
    "    if len(str) == 1:\n",
    "        return [str]\n",
    "\n",
    "    result = []\n",
    "    for i in range(len(str)):\n",
    "        # Extract the current character\n",
    "        c = str[i]\n",
    "\n",
    "        # Extract the remaining characters by excluding c\n",
    "        remaining = str[:i] + str[i+1:]\n",
    "\n",
    "        # Recursively find permutations of the remaining characters\n",
    "        sub_permutations = permutations(remaining)\n",
    "\n",
    "        # Append c to the beginning of each permutation\n",
    "        for permutation in sub_permutations:\n",
    "            result.append(c + permutation)\n",
    "\n",
    "    return result\n",
    "\n",
    "\n",
    "# Example usage\n",
    "str = \"abb\"\n",
    "permutations_list = permutations(str)\n",
    "for permutation in permutations_list:\n",
    "    print(permutation)"
   ]
  },
  {
   "cell_type": "code",
   "execution_count": null,
   "id": "ef3a4447-7d90-4f3c-9031-9b1ed2256a5c",
   "metadata": {},
   "outputs": [],
   "source": [
    "Question 8\n",
    "\n",
    "Given a string, count total number of consonants in it. A consonant is an English alphabet character that is not vowel (a, e, i, o and u). \n",
    "Examples of constants are b, c, d, f, and g.\n",
    "\n",
    "Examples :\n",
    "\n",
    "Input : abc de\n",
    "Output : 3\n",
    "There are three consonants b, c and d.\n",
    "\n",
    "Input : geeksforgeeks portal\n",
    "Output : 12"
   ]
  },
  {
   "cell_type": "code",
   "execution_count": 11,
   "id": "48a8e0cf-736b-4c98-a5d3-d0a631c3e393",
   "metadata": {},
   "outputs": [
    {
     "name": "stdout",
     "output_type": "stream",
     "text": [
      "12\n"
     ]
    }
   ],
   "source": [
    "def count_consonants(string):\n",
    "    # Define a set of vowels\n",
    "    vowels = {'a', 'e', 'i', 'o', 'u'}\n",
    "\n",
    "    count = 0\n",
    "    for char in string.lower():\n",
    "        # Check if the character is an alphabet and not a vowel\n",
    "        if char.isalpha() and char not in vowels:\n",
    "            count += 1\n",
    "\n",
    "    return count\n",
    "\n",
    "\n",
    "# Example usage\n",
    "string = \"geeksforgeeks portal\"\n",
    "consonant_count = count_consonants(string)\n",
    "print(consonant_count)"
   ]
  }
 ],
 "metadata": {
  "kernelspec": {
   "display_name": "Python 3 (ipykernel)",
   "language": "python",
   "name": "python3"
  },
  "language_info": {
   "codemirror_mode": {
    "name": "ipython",
    "version": 3
   },
   "file_extension": ".py",
   "mimetype": "text/x-python",
   "name": "python",
   "nbconvert_exporter": "python",
   "pygments_lexer": "ipython3",
   "version": "3.10.8"
  }
 },
 "nbformat": 4,
 "nbformat_minor": 5
}
